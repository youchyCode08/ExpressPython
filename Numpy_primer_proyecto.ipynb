{
 "cells": [
  {
   "cell_type": "markdown",
   "id": "fc08d67f",
   "metadata": {},
   "source": [
    "introducción a Numpy en python."
   ]
  },
  {
   "cell_type": "code",
   "execution_count": 19,
   "id": "ebb4cdf7",
   "metadata": {},
   "outputs": [],
   "source": [
    "import numpy as np"
   ]
  },
  {
   "cell_type": "code",
   "execution_count": 46,
   "id": "7b8d4d72",
   "metadata": {},
   "outputs": [],
   "source": [
    "def crearArray(fila,columna):\n",
    "    array = np.random.random((fila,columna))\n",
    "    return array"
   ]
  },
  {
   "cell_type": "code",
   "execution_count": 20,
   "id": "34f27f71",
   "metadata": {},
   "outputs": [
    {
     "name": "stdout",
     "output_type": "stream",
     "text": [
      "[1 5 4]\n"
     ]
    }
   ],
   "source": [
    "#import numpy as np\n",
    "array_1d = np.array([1,5,4])\n",
    "print(array_1d)"
   ]
  },
  {
   "cell_type": "code",
   "execution_count": 21,
   "id": "5d85201b",
   "metadata": {},
   "outputs": [
    {
     "name": "stdout",
     "output_type": "stream",
     "text": [
      "[[1 2 3]\n",
      " [4 3 2]]\n"
     ]
    }
   ],
   "source": [
    "array_2d = np.array([(1,2,3),(4,3,2)])\n",
    "print(array_2d)"
   ]
  },
  {
   "cell_type": "code",
   "execution_count": 22,
   "id": "eefa49ec",
   "metadata": {},
   "outputs": [
    {
     "name": "stdout",
     "output_type": "stream",
     "text": [
      "[[[1. 2. 3.]\n",
      "  [3. 6. 5.]]\n",
      "\n",
      " [[3. 3. 3.]\n",
      "  [8. 0. 1.]]\n",
      "\n",
      " [[2. 3. 5.]\n",
      "  [1. 4. 2.]]]\n"
     ]
    }
   ],
   "source": [
    "array_3d = np.array([[(1,2,3),(3,6,5)],[(3,3,3),(8,0,1)],[(2,3,5),(1,4,2)]],dtype = float)\n",
    "print(array_3d)"
   ]
  },
  {
   "cell_type": "markdown",
   "id": "caf8f7e6",
   "metadata": {},
   "source": [
    "Creando arreglos \n"
   ]
  },
  {
   "cell_type": "code",
   "execution_count": 23,
   "id": "00535cb1",
   "metadata": {},
   "outputs": [
    {
     "name": "stdout",
     "output_type": "stream",
     "text": [
      "[[0. 0. 0. 0.]\n",
      " [0. 0. 0. 0.]\n",
      " [0. 0. 0. 0.]]\n"
     ]
    }
   ],
   "source": [
    "#de ceros con 3 filas y 4 columnas\n",
    "array_ceros = np.zeros((3,4))\n",
    "print(array_ceros)"
   ]
  },
  {
   "cell_type": "code",
   "execution_count": 24,
   "id": "97f06239",
   "metadata": {},
   "outputs": [
    {
     "name": "stdout",
     "output_type": "stream",
     "text": [
      "[[0. 0. 0. 0. 0.]\n",
      " [0. 0. 0. 0. 0.]\n",
      " [0. 0. 0. 0. 0.]\n",
      " [0. 0. 0. 0. 0.]]\n"
     ]
    }
   ],
   "source": [
    "print(np.zeros((4,5)))"
   ]
  },
  {
   "cell_type": "code",
   "execution_count": 25,
   "id": "952e243b",
   "metadata": {},
   "outputs": [
    {
     "data": {
      "text/plain": [
       "array([[[1., 1., 1., 1., 1.],\n",
       "        [1., 1., 1., 1., 1.],\n",
       "        [1., 1., 1., 1., 1.],\n",
       "        [1., 1., 1., 1., 1.]],\n",
       "\n",
       "       [[1., 1., 1., 1., 1.],\n",
       "        [1., 1., 1., 1., 1.],\n",
       "        [1., 1., 1., 1., 1.],\n",
       "        [1., 1., 1., 1., 1.]]])"
      ]
     },
     "execution_count": 25,
     "metadata": {},
     "output_type": "execute_result"
    }
   ],
   "source": [
    "#de unos con 2 dimensiones 4 filas y 5 columans\n",
    "np.ones((2,4,5))"
   ]
  },
  {
   "cell_type": "code",
   "execution_count": 26,
   "id": "0e62132c",
   "metadata": {},
   "outputs": [
    {
     "data": {
      "text/plain": [
       "array([12, 14, 16, 18, 20, 22, 24, 26, 28, 30])"
      ]
     },
     "execution_count": 26,
     "metadata": {},
     "output_type": "execute_result"
    }
   ],
   "source": [
    "#intervalos y saltos\n",
    "np.arange(12,31,2)"
   ]
  },
  {
   "cell_type": "code",
   "execution_count": 27,
   "id": "e1e7217b",
   "metadata": {},
   "outputs": [
    {
     "data": {
      "text/plain": [
       "array([0.        , 0.66666667, 1.33333333, 2.        , 2.66666667,\n",
       "       3.33333333, 4.        ])"
      ]
     },
     "execution_count": 27,
     "metadata": {},
     "output_type": "execute_result"
    }
   ],
   "source": [
    "#intervalos y dimensiones\n",
    "np.linspace(0,4,7)"
   ]
  },
  {
   "cell_type": "code",
   "execution_count": 28,
   "id": "6aa492b9",
   "metadata": {},
   "outputs": [
    {
     "data": {
      "text/plain": [
       "array([[8, 8, 8],\n",
       "       [8, 8, 8],\n",
       "       [8, 8, 8]])"
      ]
     },
     "execution_count": 28,
     "metadata": {},
     "output_type": "execute_result"
    }
   ],
   "source": [
    "#valor dado\n",
    "np.full((3,3),8)"
   ]
  },
  {
   "cell_type": "code",
   "execution_count": 29,
   "id": "d3944d2b",
   "metadata": {},
   "outputs": [
    {
     "data": {
      "text/plain": [
       "array([[1., 0., 0., 0., 0.],\n",
       "       [0., 1., 0., 0., 0.],\n",
       "       [0., 0., 1., 0., 0.],\n",
       "       [0., 0., 0., 1., 0.],\n",
       "       [0., 0., 0., 0., 1.]])"
      ]
     },
     "execution_count": 29,
     "metadata": {},
     "output_type": "execute_result"
    }
   ],
   "source": [
    "#matriz identidad\n",
    "np.eye(5)"
   ]
  },
  {
   "cell_type": "code",
   "execution_count": 30,
   "id": "6a25d4b8",
   "metadata": {},
   "outputs": [
    {
     "data": {
      "text/plain": [
       "array([[0.3766774 , 0.3713351 , 0.28620578, 0.42718171, 0.27167255],\n",
       "       [0.8227329 , 0.24985177, 0.92616801, 0.51959048, 0.5593438 ],\n",
       "       [0.62188415, 0.60196861, 0.51762554, 0.79001531, 0.35402655],\n",
       "       [0.51152411, 0.45307267, 0.95681884, 0.44618932, 0.36660552],\n",
       "       [0.72475178, 0.63718879, 0.80204736, 0.567234  , 0.10353811]])"
      ]
     },
     "execution_count": 30,
     "metadata": {},
     "output_type": "execute_result"
    }
   ],
   "source": [
    "#valores aleatorios entre 0 y 1\n",
    "np.random.random((5,5))"
   ]
  },
  {
   "cell_type": "code",
   "execution_count": 31,
   "id": "098514fc",
   "metadata": {},
   "outputs": [
    {
     "data": {
      "text/plain": [
       "array([[0., 0., 0.],\n",
       "       [0., 0., 0.],\n",
       "       [0., 0., 0.],\n",
       "       [0., 0., 0.]])"
      ]
     },
     "execution_count": 31,
     "metadata": {},
     "output_type": "execute_result"
    }
   ],
   "source": [
    "#vacío de 4 filas y 3 colums\n",
    "np.empty((4,3))"
   ]
  },
  {
   "cell_type": "markdown",
   "id": "41424811",
   "metadata": {},
   "source": [
    "# primera forma para grabar y cargar arreglos"
   ]
  },
  {
   "cell_type": "code",
   "execution_count": 32,
   "id": "1995812e",
   "metadata": {},
   "outputs": [],
   "source": [
    "#grabar\n",
    "np.save('mi_array', np.random.random((3,3)))"
   ]
  },
  {
   "cell_type": "code",
   "execution_count": 33,
   "id": "5ad3167d",
   "metadata": {},
   "outputs": [
    {
     "data": {
      "text/plain": [
       "array([[0.98611938, 0.54503227, 0.48270371],\n",
       "       [0.18824707, 0.30783743, 0.46522124],\n",
       "       [0.25191478, 0.02548147, 0.69091553]])"
      ]
     },
     "execution_count": 33,
     "metadata": {},
     "output_type": "execute_result"
    }
   ],
   "source": [
    "#cargar \n",
    "mi_array = np.load('mi_array.npy')\n",
    "mi_array"
   ]
  },
  {
   "cell_type": "code",
   "execution_count": 34,
   "id": "c7e7700d",
   "metadata": {},
   "outputs": [],
   "source": [
    "np.save('mi_array_3d', array_3d)\n"
   ]
  },
  {
   "cell_type": "code",
   "execution_count": 35,
   "id": "252564bf",
   "metadata": {},
   "outputs": [
    {
     "data": {
      "text/plain": [
       "array([[[1., 2., 3.],\n",
       "        [3., 6., 5.]],\n",
       "\n",
       "       [[3., 3., 3.],\n",
       "        [8., 0., 1.]],\n",
       "\n",
       "       [[2., 3., 5.],\n",
       "        [1., 4., 2.]]])"
      ]
     },
     "execution_count": 35,
     "metadata": {},
     "output_type": "execute_result"
    }
   ],
   "source": [
    "mi_array3 = np.load('mi_array_3d.npy')\n",
    "mi_array3"
   ]
  },
  {
   "cell_type": "markdown",
   "id": "a57994e4",
   "metadata": {},
   "source": [
    "# propiedades y caracteristicas de los arrays."
   ]
  },
  {
   "cell_type": "code",
   "execution_count": 36,
   "id": "4fa3def8",
   "metadata": {},
   "outputs": [
    {
     "data": {
      "text/plain": [
       "array([[[1., 2., 3.],\n",
       "        [3., 6., 5.]],\n",
       "\n",
       "       [[3., 3., 3.],\n",
       "        [8., 0., 1.]],\n",
       "\n",
       "       [[2., 3., 5.],\n",
       "        [1., 4., 2.]]])"
      ]
     },
     "execution_count": 36,
     "metadata": {},
     "output_type": "execute_result"
    }
   ],
   "source": [
    "array_3d"
   ]
  },
  {
   "cell_type": "code",
   "execution_count": 37,
   "id": "cffc1e93",
   "metadata": {},
   "outputs": [
    {
     "data": {
      "text/plain": [
       "(3, 2, 3)"
      ]
     },
     "execution_count": 37,
     "metadata": {},
     "output_type": "execute_result"
    }
   ],
   "source": [
    "#dimensiones o forma \n",
    "array_3d.shape"
   ]
  },
  {
   "cell_type": "code",
   "execution_count": 38,
   "id": "01db9460",
   "metadata": {},
   "outputs": [
    {
     "data": {
      "text/plain": [
       "3"
      ]
     },
     "execution_count": 38,
     "metadata": {},
     "output_type": "execute_result"
    }
   ],
   "source": [
    "#longitud \n",
    "len(array_3d)"
   ]
  },
  {
   "cell_type": "code",
   "execution_count": 39,
   "id": "f2da26eb",
   "metadata": {},
   "outputs": [
    {
     "data": {
      "text/plain": [
       "3"
      ]
     },
     "execution_count": 39,
     "metadata": {},
     "output_type": "execute_result"
    }
   ],
   "source": [
    "#num de dimensiones\n",
    "array_3d.ndim"
   ]
  },
  {
   "cell_type": "code",
   "execution_count": 40,
   "id": "b3413c33",
   "metadata": {},
   "outputs": [
    {
     "data": {
      "text/plain": [
       "18"
      ]
     },
     "execution_count": 40,
     "metadata": {},
     "output_type": "execute_result"
    }
   ],
   "source": [
    "#número de elementos\n",
    "array_3d.size\n"
   ]
  },
  {
   "cell_type": "code",
   "execution_count": 41,
   "id": "d748e9f4",
   "metadata": {},
   "outputs": [
    {
     "data": {
      "text/plain": [
       "dtype('float64')"
      ]
     },
     "execution_count": 41,
     "metadata": {},
     "output_type": "execute_result"
    }
   ],
   "source": [
    "#tipos de datos\n",
    "array_3d.dtype"
   ]
  },
  {
   "cell_type": "code",
   "execution_count": 42,
   "id": "6d8467bc",
   "metadata": {},
   "outputs": [
    {
     "data": {
      "text/plain": [
       "'float64'"
      ]
     },
     "execution_count": 42,
     "metadata": {},
     "output_type": "execute_result"
    }
   ],
   "source": [
    "array_3d.dtype.name"
   ]
  },
  {
   "cell_type": "code",
   "execution_count": 43,
   "id": "202b68c0",
   "metadata": {},
   "outputs": [
    {
     "data": {
      "text/plain": [
       "array([[[1, 2, 3],\n",
       "        [3, 6, 5]],\n",
       "\n",
       "       [[3, 3, 3],\n",
       "        [8, 0, 1]],\n",
       "\n",
       "       [[2, 3, 5],\n",
       "        [1, 4, 2]]])"
      ]
     },
     "execution_count": 43,
     "metadata": {},
     "output_type": "execute_result"
    }
   ],
   "source": [
    "#convertir de un tipo a otro \n",
    "array_3d.astype(int)"
   ]
  },
  {
   "cell_type": "code",
   "execution_count": 45,
   "id": "120f1962",
   "metadata": {},
   "outputs": [
    {
     "name": "stdout",
     "output_type": "stream",
     "text": [
      "Data-type of the array's elements.\n",
      "\n",
      "Parameters\n",
      "----------\n",
      "None\n",
      "\n",
      "Returns\n",
      "-------\n",
      "d : numpy dtype object\n",
      "\n",
      "See Also\n",
      "--------\n",
      "numpy.dtype\n",
      "\n",
      "Examples\n",
      "--------\n",
      ">>> x\n",
      "array([[0, 1],\n",
      "       [2, 3]])\n",
      ">>> x.dtype\n",
      "dtype('int32')\n",
      ">>> type(x.dtype)\n",
      "<type 'numpy.dtype'>\n"
     ]
    }
   ],
   "source": [
    "#ayuda \n",
    "np.info(np.ndarray.dtype)"
   ]
  },
  {
   "cell_type": "markdown",
   "id": "6dbc8591",
   "metadata": {},
   "source": [
    "# Estadísticos básicos y otras funcvcionrs"
   ]
  },
  {
   "cell_type": "code",
   "execution_count": 47,
   "id": "80659652",
   "metadata": {},
   "outputs": [
    {
     "name": "stdout",
     "output_type": "stream",
     "text": [
      "[[0.52968931 0.65980798 0.23080214 0.72064268 0.81098156]\n",
      " [0.61250859 0.6309765  0.89036011 0.05278364 0.46941268]\n",
      " [0.78342161 0.69882795 0.17754727 0.72950087 0.74507943]\n",
      " [0.57864147 0.2687443  0.33878939 0.87190729 0.0153799 ]\n",
      " [0.72573489 0.86578756 0.63022818 0.21418938 0.39254858]]\n"
     ]
    }
   ],
   "source": [
    "array1 = crearArray(5,5)\n",
    "print(array1)"
   ]
  },
  {
   "cell_type": "code",
   "execution_count": 54,
   "id": "4612ee56",
   "metadata": {},
   "outputs": [
    {
     "name": "stdout",
     "output_type": "stream",
     "text": [
      "13.644293260202309\n"
     ]
    }
   ],
   "source": [
    "#suma del valor del array anterios\n",
    "sumaTotal = array1.sum()\n",
    "print(sumaTotal)"
   ]
  },
  {
   "cell_type": "code",
   "execution_count": 56,
   "id": "ccb91b01",
   "metadata": {},
   "outputs": [
    {
     "name": "stdout",
     "output_type": "stream",
     "text": [
      "0.015379902574772397\n"
     ]
    }
   ],
   "source": [
    "valorMinimo = array1.min()\n",
    "print(valorMinimo)"
   ]
  },
  {
   "cell_type": "code",
   "execution_count": 57,
   "id": "0686f6ec",
   "metadata": {},
   "outputs": [
    {
     "name": "stdout",
     "output_type": "stream",
     "text": [
      "0.8903601064190587\n"
     ]
    }
   ],
   "source": [
    "valorMaximo = array1.max()\n",
    "print(valorMaximo)"
   ]
  },
  {
   "cell_type": "code",
   "execution_count": 58,
   "id": "7e8fee5d",
   "metadata": {},
   "outputs": [
    {
     "data": {
      "text/plain": [
       "array([0.78342161, 0.86578756, 0.89036011, 0.87190729, 0.81098156])"
      ]
     },
     "execution_count": 58,
     "metadata": {},
     "output_type": "execute_result"
    }
   ],
   "source": [
    "#maximo por filas\n",
    "array1.max(axis=0)"
   ]
  },
  {
   "cell_type": "code",
   "execution_count": 59,
   "id": "74c1dc3b",
   "metadata": {},
   "outputs": [
    {
     "data": {
      "text/plain": [
       "array([0.81098156, 0.89036011, 0.78342161, 0.87190729, 0.86578756])"
      ]
     },
     "execution_count": 59,
     "metadata": {},
     "output_type": "execute_result"
    }
   ],
   "source": [
    "#maximo por columnas\n",
    "array1.max(axis=1)"
   ]
  },
  {
   "cell_type": "code",
   "execution_count": 60,
   "id": "37a960cf",
   "metadata": {},
   "outputs": [
    {
     "data": {
      "text/plain": [
       "array([[0.52968931, 1.18949729, 1.42029943, 2.1409421 , 2.95192366],\n",
       "       [0.61250859, 1.2434851 , 2.1338452 , 2.18662885, 2.65604152],\n",
       "       [0.78342161, 1.48224956, 1.65979683, 2.3892977 , 3.13437713],\n",
       "       [0.57864147, 0.84738577, 1.18617516, 2.05808246, 2.07346236],\n",
       "       [0.72573489, 1.59152245, 2.22175063, 2.43594001, 2.82848859]])"
      ]
     },
     "execution_count": 60,
     "metadata": {},
     "output_type": "execute_result"
    }
   ],
   "source": [
    "#suma acumulada\n",
    "array1.cumsum(axis=1)"
   ]
  },
  {
   "cell_type": "code",
   "execution_count": 62,
   "id": "6764c813",
   "metadata": {},
   "outputs": [
    {
     "data": {
      "text/plain": [
       "0.5457717304080923"
      ]
     },
     "execution_count": 62,
     "metadata": {},
     "output_type": "execute_result"
    }
   ],
   "source": [
    "#media\n",
    "np.mean(array1)"
   ]
  },
  {
   "cell_type": "code",
   "execution_count": 64,
   "id": "9b8dbcaf",
   "metadata": {},
   "outputs": [
    {
     "data": {
      "text/plain": [
       "0.6302281816725296"
      ]
     },
     "execution_count": 64,
     "metadata": {},
     "output_type": "execute_result"
    }
   ],
   "source": [
    "#mediana\n",
    "np.median(array1)"
   ]
  },
  {
   "cell_type": "code",
   "execution_count": 65,
   "id": "4789f02c",
   "metadata": {},
   "outputs": [
    {
     "data": {
      "text/plain": [
       "array([[ 1.        , -0.73216691,  0.86094757, -0.07273012, -0.40737086],\n",
       "       [-0.73216691,  1.        , -0.63577232, -0.55676103,  0.7618852 ],\n",
       "       [ 0.86094757, -0.63577232,  1.        ,  0.14895174, -0.14698686],\n",
       "       [-0.07273012, -0.55676103,  0.14895174,  1.        , -0.33556042],\n",
       "       [-0.40737086,  0.7618852 , -0.14698686, -0.33556042,  1.        ]])"
      ]
     },
     "execution_count": 65,
     "metadata": {},
     "output_type": "execute_result"
    }
   ],
   "source": [
    "#correlacion\n",
    "np.corrcoef(array1)"
   ]
  },
  {
   "cell_type": "code",
   "execution_count": 66,
   "id": "eac98bcc",
   "metadata": {},
   "outputs": [
    {
     "data": {
      "text/plain": [
       "0.2580992565249016"
      ]
     },
     "execution_count": 66,
     "metadata": {},
     "output_type": "execute_result"
    }
   ],
   "source": [
    "#desviacion\n",
    "np.std(array1)"
   ]
  },
  {
   "cell_type": "markdown",
   "id": "4e0ece3f",
   "metadata": {},
   "source": [
    "# copiando arrays"
   ]
  },
  {
   "cell_type": "code",
   "execution_count": 72,
   "id": "704b5b2f",
   "metadata": {},
   "outputs": [
    {
     "data": {
      "text/plain": [
       "array([[ 7,  2, 14, 13],\n",
       "       [ 5,  4,  9, 18],\n",
       "       [ 3,  4,  2,  1],\n",
       "       [15, 14,  1, 10]])"
      ]
     },
     "execution_count": 72,
     "metadata": {},
     "output_type": "execute_result"
    }
   ],
   "source": [
    "arrayA = np.random.randint(21, size = (4,4))\n",
    "arrayA"
   ]
  },
  {
   "cell_type": "code",
   "execution_count": 73,
   "id": "6ed0b1c7",
   "metadata": {},
   "outputs": [
    {
     "data": {
      "text/plain": [
       "array([[ 7,  2, 14, 13],\n",
       "       [ 5,  4,  9, 18],\n",
       "       [ 3,  4,  2,  1],\n",
       "       [15, 14,  1, 10]])"
      ]
     },
     "execution_count": 73,
     "metadata": {},
     "output_type": "execute_result"
    }
   ],
   "source": [
    "#crear una imagen de un array\n",
    "array_cop = arrayA.view()\n",
    "array_cop"
   ]
  },
  {
   "cell_type": "code",
   "execution_count": 74,
   "id": "ff468d90",
   "metadata": {},
   "outputs": [
    {
     "data": {
      "text/plain": [
       "True"
      ]
     },
     "execution_count": 74,
     "metadata": {},
     "output_type": "execute_result"
    }
   ],
   "source": [
    "np.array_equal(arrayA,array_cop)"
   ]
  },
  {
   "cell_type": "code",
   "execution_count": 75,
   "id": "f5d105b8",
   "metadata": {},
   "outputs": [],
   "source": [
    "#modificar un valor de la copia\n",
    "array_cop[0,1]=99"
   ]
  },
  {
   "cell_type": "code",
   "execution_count": 76,
   "id": "d315458a",
   "metadata": {},
   "outputs": [
    {
     "data": {
      "text/plain": [
       "array([[ 7, 99, 14, 13],\n",
       "       [ 5,  4,  9, 18],\n",
       "       [ 3,  4,  2,  1],\n",
       "       [15, 14,  1, 10]])"
      ]
     },
     "execution_count": 76,
     "metadata": {},
     "output_type": "execute_result"
    }
   ],
   "source": [
    "array_cop"
   ]
  },
  {
   "cell_type": "code",
   "execution_count": 77,
   "id": "875cb470",
   "metadata": {},
   "outputs": [
    {
     "data": {
      "text/plain": [
       "array([[ 7, 99, 14, 13],\n",
       "       [ 5,  4,  9, 18],\n",
       "       [ 3,  4,  2,  1],\n",
       "       [15, 14,  1, 10]])"
      ]
     },
     "execution_count": 77,
     "metadata": {},
     "output_type": "execute_result"
    }
   ],
   "source": [
    "arrayA"
   ]
  },
  {
   "cell_type": "code",
   "execution_count": 78,
   "id": "33988b25",
   "metadata": {},
   "outputs": [
    {
     "data": {
      "text/plain": [
       "array([[ 7, 99, 14, 13],\n",
       "       [ 5,  4,  9, 18],\n",
       "       [ 3,  4,  2,  1],\n",
       "       [15, 14,  1, 10]])"
      ]
     },
     "execution_count": 78,
     "metadata": {},
     "output_type": "execute_result"
    }
   ],
   "source": [
    "#creando copia independiente\n",
    "array_cop2 = np.copy(arrayA)\n",
    "array_cop2"
   ]
  },
  {
   "cell_type": "code",
   "execution_count": 79,
   "id": "1145d53b",
   "metadata": {},
   "outputs": [
    {
     "data": {
      "text/plain": [
       "array([[ 7, 99, 14, 13],\n",
       "       [ 5,  4,  9, 18],\n",
       "       [ 3,  4,  2, 77],\n",
       "       [15, 14,  1, 10]])"
      ]
     },
     "execution_count": 79,
     "metadata": {},
     "output_type": "execute_result"
    }
   ],
   "source": [
    "array_cop2[2,3] = 77\n",
    "array_cop2"
   ]
  },
  {
   "cell_type": "code",
   "execution_count": 80,
   "id": "2f908d43",
   "metadata": {},
   "outputs": [
    {
     "data": {
      "text/plain": [
       "array([[ 7, 99, 14, 13],\n",
       "       [ 5,  4,  9, 18],\n",
       "       [ 3,  4,  2,  1],\n",
       "       [15, 14,  1, 10]])"
      ]
     },
     "execution_count": 80,
     "metadata": {},
     "output_type": "execute_result"
    }
   ],
   "source": [
    "arrayA"
   ]
  },
  {
   "cell_type": "code",
   "execution_count": null,
   "id": "7a6a976e",
   "metadata": {},
   "outputs": [],
   "source": []
  }
 ],
 "metadata": {
  "kernelspec": {
   "display_name": "Python 3 (ipykernel)",
   "language": "python",
   "name": "python3"
  },
  "language_info": {
   "codemirror_mode": {
    "name": "ipython",
    "version": 3
   },
   "file_extension": ".py",
   "mimetype": "text/x-python",
   "name": "python",
   "nbconvert_exporter": "python",
   "pygments_lexer": "ipython3",
   "version": "3.9.13"
  }
 },
 "nbformat": 4,
 "nbformat_minor": 5
}
